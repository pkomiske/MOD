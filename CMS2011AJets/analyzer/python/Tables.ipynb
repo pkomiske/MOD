{
 "cells": [
  {
   "cell_type": "code",
   "execution_count": 1,
   "metadata": {},
   "outputs": [],
   "source": [
    "import os\n",
    "\n",
    "from energyflow.datasets import mod\n",
    "import numpy as np\n",
    "\n",
    "import utils"
   ]
  },
  {
   "cell_type": "markdown",
   "metadata": {},
   "source": [
    "## Table 2"
   ]
  },
  {
   "cell_type": "code",
   "execution_count": 2,
   "metadata": {},
   "outputs": [],
   "source": [
    "cross_sections = np.load(utils.path('sim', 'CrossSections.pickle'), allow_pickle=True)\n",
    "cms_filepaths = utils.get_filenames(subdir='npz', include_path=True)\n",
    "sim_filepaths = utils.get_sim_filenames_dict(subdir='sim_npz', include_path=True)\n",
    "gen_filepaths = utils.get_sim_filenames_dict(subdir='gen_npz', include_path=True)\n",
    "ptmins = list(sim_filepaths.keys())"
   ]
  },
  {
   "cell_type": "code",
   "execution_count": 3,
   "metadata": {},
   "outputs": [],
   "source": [
    "counts = {\n",
    "    'sim': {ptmin: {'nevs': 0, 'nevs_valid': 0, 'nevs_trig_fired': 0, 'njets': 0, \n",
    "                    'njets_pass_ptmin': 0, 'njets_ak5_match': 0} for ptmin in sim_filepaths},\n",
    "    'cms': {'nevs': 0, 'nevs_valid': 0, 'nevs_trig_fired': 0, 'njets': 0, \n",
    "            'njets_pass_ptmin': 0, 'njets_ak5_match': 0},\n",
    "    'gen': {ptmin: {'njets_gen': 0, 'njets_gen_pass_ptmin': 0} for ptmin in gen_filepaths}\n",
    "}\n",
    "\n",
    "for ptmin,filepaths in sim_filepaths.items():\n",
    "    for filepath in filepaths:\n",
    "        f_npz = np.load(filepath)\n",
    "        counts['sim'][ptmin]['nevs'] += f_npz['nevs']\n",
    "        counts['sim'][ptmin]['nevs_valid'] += f_npz['nevs_valid']\n",
    "        counts['sim'][ptmin]['nevs_trig_fired'] += f_npz['nevs_trig_fired']\n",
    "        counts['sim'][ptmin]['njets'] += f_npz['njets']\n",
    "        counts['sim'][ptmin]['njets_pass_ptmin'] += f_npz['njets_pass_ptmin']\n",
    "        counts['sim'][ptmin]['njets_ak5_match'] += f_npz['njets_ak5_match']\n",
    "        f_npz.close()\n",
    "    \n",
    "for filepath in cms_filepaths:\n",
    "    f_npz = np.load(filepath)\n",
    "    counts['cms']['nevs'] += f_npz['nevs']\n",
    "    counts['cms']['nevs_valid'] += f_npz['nevs_valid']\n",
    "    counts['cms']['nevs_trig_fired'] += f_npz['nevs_trig_fired']\n",
    "    counts['cms']['njets'] += f_npz['njets']\n",
    "    counts['cms']['njets_pass_ptmin'] += f_npz['njets_pass_ptmin']\n",
    "    counts['cms']['njets_ak5_match'] += f_npz['njets_ak5_match']\n",
    "    f_npz.close()\n",
    "    \n",
    "for ptmin,filepaths in gen_filepaths.items():\n",
    "    for filepath in filepaths:\n",
    "        f_npz = np.load(filepath)\n",
    "        counts['gen'][ptmin]['njets_gen'] += f_npz['njets_gen']\n",
    "        counts['gen'][ptmin]['njets_gen_pass_ptmin'] += f_npz['njets_gen_pass_ptmin']\n",
    "        f_npz.close()"
   ]
  },
  {
   "cell_type": "code",
   "execution_count": 14,
   "metadata": {},
   "outputs": [
    {
     "name": "stdout",
     "output_type": "stream",
     "text": [
      "==============================================================\n",
      "pTmin - pTmax [GeV]   Num. Files    Events   sigma_eff^MC [fb]\n",
      "==============================================================\n",
      "120-170                      334   5963264     115133500.00000\n",
      "--------------------------------------------------------------\n",
      "170-300                      387   5975592      24262830.00000\n",
      "300-470                      382   5975016       1168494.00000\n",
      "470-600                      274   3967154         70224.21000\n",
      "600-800                      271   3988701         15553.74000\n",
      "800-1000                     295   3945269          1843.68800\n",
      "1000-1400                    131   1956893           332.10520\n",
      "1400-1800                    182   1991792            10.87214\n",
      "1800-inf                      75    996500             0.35746\n",
      "==============================================================\n"
     ]
    }
   ],
   "source": [
    "def make_table2(out=None):\n",
    "    \n",
    "    # format table 2\n",
    "    table_2 = ['equals', 'cols', 'equals',\n",
    "                 '120',\n",
    "               'hline',\n",
    "                 '170', '300', '470', '600', '800', '1000', '1400', '1800',\n",
    "               'equals']\n",
    "\n",
    "    for name in table_2:\n",
    "        if name == 'hline':\n",
    "            print(62*'-', file=out)\n",
    "        elif name == 'equals':\n",
    "            print(62*'=', file=out)\n",
    "        elif name == 'cols':\n",
    "            cols = ('pTmin - pTmax [GeV]', 'Num. Files', 'Events', 'sigma_eff^MC [fb]')\n",
    "            print('{:22}{:>10}{:>10}{:>20}'.format(*cols), file=out)\n",
    "        else:\n",
    "            nevs_ptmin = counts['sim'][name]['nevs']\n",
    "            nfiles_ptmin = len(sim_filepaths[name])\n",
    "            xs = cross_sections[name]['xs']*10**3\n",
    "            \n",
    "            assert nevs_ptmin == cross_sections[name]['nev']\n",
    "\n",
    "            # format printing\n",
    "            i = ptmins.index(name)\n",
    "            name = '{}-{}'.format(name, ptmins[i+1] if i < len(ptmins) - 1 else 'inf')\n",
    "            vals = (name, nfiles_ptmin, nevs_ptmin, xs)\n",
    "            print('{:22}{:>10}{:>10}{:>20.5f}'.format(*vals), file=out)\n",
    "\n",
    "make_table2()\n",
    "\n",
    "with open('../plots/Table_2.txt', 'w') as f:\n",
    "    make_table2(out=f)"
   ]
  },
  {
   "cell_type": "markdown",
   "metadata": {},
   "source": [
    "## Table 3"
   ]
  },
  {
   "cell_type": "code",
   "execution_count": 4,
   "metadata": {},
   "outputs": [],
   "source": [
    "counts['sim']['total'] = {}\n",
    "for i,ptmin in enumerate(list(counts['sim'].keys())):\n",
    "    if ptmin == '120' or ptmin == 'total':\n",
    "        continue\n",
    "        \n",
    "    for name,c in counts['sim'][ptmin].items():\n",
    "        if i == 1:\n",
    "            counts['sim']['total'][name] = c\n",
    "        else:\n",
    "            counts['sim']['total'][name] += c\n",
    "            \n",
    "counts['gen']['total'] = {}\n",
    "for i,ptmin in enumerate(list(counts['gen'].keys())):\n",
    "    if ptmin == '120' or ptmin == 'total':\n",
    "        continue\n",
    "        \n",
    "    for name,c in counts['gen'][ptmin].items():\n",
    "        name = name.replace('_gen', '')\n",
    "        if i == 1:\n",
    "            counts['gen']['total'][name] = c\n",
    "        else:\n",
    "            counts['gen']['total'][name] += c"
   ]
  },
  {
   "cell_type": "code",
   "execution_count": 5,
   "metadata": {},
   "outputs": [
    {
     "name": "stdout",
     "output_type": "stream",
     "text": [
      "==============================================\n",
      "                       CMS       SIM       GEN\n",
      "==============================================\n",
      "nevs              26277742  28796917          \n",
      "nevs_valid        26254892  28796917          \n",
      "present                                       \n",
      "nevs_trig_fired    4616184  22108599          \n",
      "----------------------------------------------\n",
      "njets              9106775  44217198  43604940\n",
      "njets_pass_ptmin   1785625  35155818  35267080\n",
      "njets_ak5_match    1785625  35155790          \n",
      "==============================================\n"
     ]
    }
   ],
   "source": [
    "def make_table3(out=None):\n",
    "    \n",
    "    # format table 3\n",
    "    table_3 = ['equals', 'cols', 'equals',\n",
    "                 'nevs',\n",
    "                 'nevs_valid',\n",
    "                 'present',\n",
    "                 'nevs_trig_fired',\n",
    "               'hline',\n",
    "                 'njets',\n",
    "                 'njets_pass_ptmin',\n",
    "                 'njets_ak5_match',\n",
    "               'equals']\n",
    "\n",
    "    for name in table_3:\n",
    "        if name == 'hline':\n",
    "            print(46*'-', file=out)\n",
    "        elif name == 'equals':\n",
    "            print(46*'=', file=out)\n",
    "        elif name == 'cols':\n",
    "            cols = ('', 'CMS', 'SIM', 'GEN')\n",
    "            print('{:16}{:>10}{:>10}{:>10}'.format(*cols), file=out)\n",
    "        else:\n",
    "            vals = (name, counts['cms'].get(name, ''), \n",
    "                    counts['sim']['total'].get(name, ''), counts['gen']['total'].get(name, ''))\n",
    "            print('{:16}{:>10}{:>10}{:>10}'.format(*vals), file=out)\n",
    "\n",
    "make_table3()\n",
    "\n",
    "with open('../plots/Table_3.txt', 'w') as f:\n",
    "    make_table3(out=f)"
   ]
  },
  {
   "cell_type": "code",
   "execution_count": 2,
   "metadata": {},
   "outputs": [],
   "source": [
    "# make selections (consider amount = 0.01 for quick testing)\n",
    "amount = 1.0\n",
    "path = '/home/pkomiske/.energyflow/'\n",
    "\n",
    "# use this if you've previously selected custom datasets\n",
    "preselected = True"
   ]
  },
  {
   "cell_type": "code",
   "execution_count": 3,
   "metadata": {},
   "outputs": [],
   "source": [
    "if not preselected:\n",
    "    cms = mod.load(dataset='cms', amount=amount, store_pfcs=False)\n",
    "    sim = mod.load(dataset='sim', amount=amount, store_pfcs=False, store_gens=False)\n",
    "    gen = mod.load(dataset='gen', amount=amount, store_gens=False)\n",
    "\n",
    "else:\n",
    "    # make sure the path points to where you saved the custom datasets\n",
    "    fullpath = os.path.join(path, 'datasets/CMS2011AJets')\n",
    "    cms = mod.MODDataset('cms/CMS_Jet300_pT375-infGeV', path=fullpath, store_pfcs=False)\n",
    "    sim = mod.MODDataset('sim/SIM_Jet300_pT375-infGeV_noparticles', path=fullpath)\n",
    "    gen = mod.MODDataset('sim/GEN_pT375-infGeV_noparticles', path=fullpath)    "
   ]
  },
  {
   "cell_type": "code",
   "execution_count": 4,
   "metadata": {},
   "outputs": [
    {
     "name": "stdout",
     "output_type": "stream",
     "text": [
      "CMS Selections\n",
      "  All 1785625\n",
      "  Medium Quality 1731255\n",
      "  |eta| < 1.9 1690984\n",
      "  pt < 425 879046\n",
      "\n",
      "SIM Selections\n",
      "  All 35155790\n",
      "  Medium Quality 35145175\n",
      "  |eta| < 1.9 34969900\n",
      "  pt < 425 2379525\n",
      "\n",
      "GEN Selections\n",
      "  All 35267080\n",
      "  |eta| < 1.9 35089120\n",
      "  pt < 425 2203305\n",
      "\n"
     ]
    }
   ],
   "source": [
    "print('CMS Selections')\n",
    "print('  All', np.count_nonzero(cms.sel()))\n",
    "print('  Medium Quality', np.count_nonzero(cms.sel('quality >= 2')))\n",
    "print('  |eta| < 1.9', np.count_nonzero(cms.sel('quality >= 2', 'abs_jet_eta < 1.9')))\n",
    "print('  pt < 425', np.count_nonzero(cms.sel('quality >= 2', 'abs_jet_eta < 1.9', 'corr_jet_pt < 425')))\n",
    "print()\n",
    "\n",
    "print('SIM Selections')\n",
    "print('  All', np.count_nonzero(sim.sel()))\n",
    "print('  Medium Quality', np.count_nonzero(sim.sel('quality >= 2')))\n",
    "print('  |eta| < 1.9', np.count_nonzero(sim.sel('quality >= 2', 'abs_jet_eta < 1.9')))\n",
    "print('  pt < 425', np.count_nonzero(sim.sel('quality >= 2', 'abs_jet_eta < 1.9', 'corr_jet_pt < 425')))\n",
    "print()\n",
    "\n",
    "print('GEN Selections')\n",
    "print('  All', np.count_nonzero(gen.sel()))\n",
    "print('  |eta| < 1.9', np.count_nonzero(gen.sel('abs_jet_eta < 1.9')))\n",
    "print('  pt < 425', np.count_nonzero(gen.sel('abs_jet_eta < 1.9', 'corr_jet_pt < 425')))\n",
    "print()"
   ]
  },
  {
   "cell_type": "markdown",
   "metadata": {},
   "source": [
    "## Table 4"
   ]
  },
  {
   "cell_type": "code",
   "execution_count": 18,
   "metadata": {},
   "outputs": [],
   "source": [
    "# make selections (consider amount = 0.01 for quick testing)\n",
    "ptmin, ptmax = 375, 425\n",
    "absetamax = '1.9'\n",
    "amount = -1\n",
    "specs = [(ptmin, '<=corr_jet_pts<', ptmax), 'abs_jet_eta < {}'.format(absetamax), 'quality >= 2']\n",
    "path = '/home/pkomiske/.energyflow/'\n",
    "\n",
    "# use this if you've previously selected custom datasets\n",
    "preselected = True"
   ]
  },
  {
   "cell_type": "code",
   "execution_count": 19,
   "metadata": {},
   "outputs": [],
   "source": [
    "if not preselected:\n",
    "    cms = mod.load(*specs, dataset='cms', amount=amount)\n",
    "    sim = mod.load(*specs, dataset='sim', amount=amount, store_gens=False)\n",
    "    gen = mod.load(*specs, dataset='gen', amount=amount)\n",
    "\n",
    "else:\n",
    "    # make sure the path points to where you saved the custom datasets\n",
    "    fullpath = os.path.join(path, 'datasets/CMS2011AJets')\n",
    "    cms = mod.MODDataset('cms/CMS_Jet300_pT375-infGeV', *specs, path=fullpath)\n",
    "    sim = mod.MODDataset('sim/SIM_Jet300_pT{}-{}GeV'.format(ptmin, ptmax), *specs, \n",
    "                         path=fullpath, store_gens=False)\n",
    "    gen = mod.MODDataset('sim/GEN_pT{}-{}GeV'.format(ptmin, ptmax), *specs, path=fullpath)    "
   ]
  },
  {
   "cell_type": "code",
   "execution_count": 20,
   "metadata": {},
   "outputs": [],
   "source": [
    "cms_pids = []\n",
    "for pfcs in cms.pfcs:\n",
    "    cms_pids.append(pfcs[:,cms.pid])\n",
    "cms_pids = np.concatenate(cms_pids)\n",
    "\n",
    "sim_pids = []\n",
    "for pfcs in sim.pfcs:\n",
    "    sim_pids.append(pfcs[:,sim.pid])\n",
    "sim_pids = np.concatenate(sim_pids)"
   ]
  },
  {
   "cell_type": "code",
   "execution_count": 21,
   "metadata": {},
   "outputs": [
    {
     "name": "stdout",
     "output_type": "stream",
     "text": [
      "CMS: (array([-211.,  -13.,  -11.,   11.,   13.,   22.,  130.,  211.]), array([10414733,    17453,    31444,    31297,    16779, 14102402,\n",
      "        2955136, 10731634]))\n",
      "SIM: (array([-211.,  -13.,  -11.,   11.,   13.,   22.,  130.,  211.]), array([30718965,    50009,    75651,    76819,    47871, 39487711,\n",
      "        7509228, 31682518]))\n"
     ]
    }
   ],
   "source": [
    "print('CMS:', np.unique(cms_pids, return_counts=True))\n",
    "print('SIM:', np.unique(sim_pids, return_counts=True))"
   ]
  },
  {
   "cell_type": "code",
   "execution_count": 22,
   "metadata": {},
   "outputs": [
    {
     "name": "stdout",
     "output_type": "stream",
     "text": [
      "CMS\n",
      "11     --  Total: 31297\n",
      "11     -- w. CHS: 30304\n",
      "11 -- w. pT>1GeV: 30284\n",
      "31297 & 30304 & 30284\n",
      "\n",
      "-11     --  Total: 31444\n",
      "-11     -- w. CHS: 30470\n",
      "-11 -- w. pT>1GeV: 30448\n",
      "31444 & 30470 & 30448\n",
      "\n",
      "13     --  Total: 16779\n",
      "13     -- w. CHS: 14957\n",
      "13 -- w. pT>1GeV: 14912\n",
      "16779 & 14957 & 14912\n",
      "\n",
      "-13     --  Total: 17453\n",
      "-13     -- w. CHS: 15373\n",
      "-13 -- w. pT>1GeV: 15310\n",
      "17453 & 15373 & 15310\n",
      "\n",
      "211     --  Total: 10731634\n",
      "211     -- w. CHS: 8159520\n",
      "211 -- w. pT>1GeV: 6950019\n",
      "10731634 & 8159520 & 6950019\n",
      "\n",
      "-211     --  Total: 10414733\n",
      "-211     -- w. CHS: 7987681\n",
      "-211 -- w. pT>1GeV: 6780597\n",
      "10414733 & 7987681 & 6780597\n",
      "\n",
      "22     --  Total: 14102402\n",
      "22     -- w. CHS: 14102402\n",
      "22 -- w. pT>1GeV: 7157772\n",
      "14102402 & 14102402 & 7157772\n",
      "\n",
      "130     --  Total: 2955136\n",
      "130     -- w. CHS: 2955136\n",
      "130 -- w. pT>1GeV: 2317806\n",
      "2955136 & 2955136 & 2317806\n",
      "\n",
      "\n",
      "SIM\n",
      "11     --  Total: 76819\n",
      "11     -- w. CHS: 73937\n",
      "11 -- w. pT>1GeV: 73906\n",
      "76819 & 73937 & 73906\n",
      "\n",
      "-11     --  Total: 75651\n",
      "-11     -- w. CHS: 72920\n",
      "-11 -- w. pT>1GeV: 72868\n",
      "75651 & 72920 & 72868\n",
      "\n",
      "13     --  Total: 47871\n",
      "13     -- w. CHS: 42604\n",
      "13 -- w. pT>1GeV: 42511\n",
      "47871 & 42604 & 42511\n",
      "\n",
      "-13     --  Total: 50009\n",
      "-13     -- w. CHS: 44256\n",
      "-13 -- w. pT>1GeV: 44149\n",
      "50009 & 44256 & 44149\n",
      "\n",
      "211     --  Total: 31682518\n",
      "211     -- w. CHS: 23267103\n",
      "211 -- w. pT>1GeV: 19775066\n",
      "31682518 & 23267103 & 19775066\n",
      "\n",
      "-211     --  Total: 30718965\n",
      "-211     -- w. CHS: 22837987\n",
      "-211 -- w. pT>1GeV: 19361736\n",
      "30718965 & 22837987 & 19361736\n",
      "\n",
      "22     --  Total: 39487711\n",
      "22     -- w. CHS: 39487711\n",
      "22 -- w. pT>1GeV: 19805470\n",
      "39487711 & 39487711 & 19805470\n",
      "\n",
      "130     --  Total: 7509228\n",
      "130     -- w. CHS: 7509228\n",
      "130 -- w. pT>1GeV: 5974028\n",
      "7509228 & 7509228 & 5974028\n",
      "\n",
      "\n"
     ]
    }
   ],
   "source": [
    "# count the number of different particle types at different stages\n",
    "names = ['CMS','SIM']\n",
    "for k,events in enumerate([cms.pfcs, sim.pfcs]):\n",
    "    print(names[k])\n",
    "    \n",
    "    # iterate over all of the particle types\n",
    "    for pid in [11,-11,13,-13,211,-211,22,130]:\n",
    "        count_tot, count_chs, count_ptc = 0, 0, 0\n",
    "        for jet in events:\n",
    "\n",
    "            # mask to restrict to this pid\n",
    "            pidfilt = jet[:,4] == pid\n",
    "\n",
    "            # mask to restrict to PFCs above 1 GeV\n",
    "            ptcfilt = jet[:,0] > 1.\n",
    "\n",
    "            # mask to restrict to post-CHS particles\n",
    "            chsfilt = jet[:,5] <= 0\n",
    "\n",
    "            # count the number of particles at each filtering stage\n",
    "            count_tot += np.count_nonzero(pidfilt)\n",
    "            pidchs_filt = pidfilt & chsfilt\n",
    "            count_chs += np.count_nonzero(pidchs_filt)\n",
    "            count_ptc += np.count_nonzero(pidchs_filt & ptcfilt)\n",
    "\n",
    "        # print the result\n",
    "        print(pid,'    --  Total:',    count_tot)\n",
    "        print(pid,'    -- w. CHS:',    count_chs)\n",
    "        print(pid,'-- w. pT>1GeV:',    count_ptc)\n",
    "        \n",
    "        # also formatted for copypasting into tex file\n",
    "        print(count_tot,'&',count_chs,'&',count_ptc)\n",
    "\n",
    "        print()\n",
    "    print()"
   ]
  },
  {
   "cell_type": "code",
   "execution_count": null,
   "metadata": {},
   "outputs": [],
   "source": []
  }
 ],
 "metadata": {
  "kernelspec": {
   "display_name": "Python 3",
   "language": "python",
   "name": "python3"
  },
  "language_info": {
   "codemirror_mode": {
    "name": "ipython",
    "version": 3
   },
   "file_extension": ".py",
   "mimetype": "text/x-python",
   "name": "python",
   "nbconvert_exporter": "python",
   "pygments_lexer": "ipython3",
   "version": "3.7.3"
  }
 },
 "nbformat": 4,
 "nbformat_minor": 2
}
